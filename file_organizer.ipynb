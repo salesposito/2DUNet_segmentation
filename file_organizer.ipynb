{
 "cells": [
  {
   "cell_type": "code",
   "execution_count": 1,
   "source": [
    "import os\n",
    "import shutil\n",
    "import glob\n",
    "import pathlib\n",
    "from pathlib import Path\n"
   ],
   "outputs": [],
   "metadata": {}
  },
  {
   "cell_type": "code",
   "execution_count": 52,
   "source": [
    "import os.path\n",
    "\n",
    "dst_path= pathlib.Path(\"/Users/salvatoreesposito/Downloads/ct_scans/\")\n",
    "mask_no=1\n",
    "for dirpath, dirnames, filenames in os.walk(\"/Users/salvatoreesposito/Downloads/LCTSC\"):\n",
    "    for filename in [f for f in filenames if f.startswith(\"1-0\")]:\n",
    "        image= os.path.join(dirpath, filename)\n",
    "        destination= str(dst_path)+ \"/\" + \"scan_\" + str(mask_no)+'.dcm'\n",
    "        mask_no+=1\n",
    "        shutil.copy(image, destination)\n"
   ],
   "outputs": [],
   "metadata": {}
  },
  {
   "cell_type": "code",
   "execution_count": 2,
   "source": [
    "from shutil import copytree, ignore_patterns\n",
    "source='/Users/salvatoreesposito/Documents/EclipseData'\n",
    "destination='/Users/salvatoreesposito/Desktop/prostate'\n",
    "copytree(source, destination, ignore=ignore_patterns('*DICOMDIR', 'RD*','RI*','RP*'))"
   ],
   "outputs": [
    {
     "output_type": "execute_result",
     "data": {
      "text/plain": [
       "'/Users/salvatoreesposito/Desktop/prostate'"
      ]
     },
     "metadata": {},
     "execution_count": 2
    }
   ],
   "metadata": {}
  },
  {
   "cell_type": "code",
   "execution_count": 5,
   "source": [
    "my_dir = '/Users/salvatoreesposito/Desktop/prostate'\n",
    "for fname in os.listdir(my_dir):\n",
    "    if fname.startswith(\"RI\"):\n",
    "        os.remove(os.path.join(my_dir, fname))"
   ],
   "outputs": [],
   "metadata": {}
  }
 ],
 "metadata": {
  "interpreter": {
   "hash": "125bec86af28abc83cf35ecc07aed6c1f98608cb92e6f2b8d1d63cbdf2bcb29e"
  },
  "kernelspec": {
   "name": "python3",
   "display_name": "Python 3.9.5 64-bit ('autosegmentation': conda)"
  },
  "language_info": {
   "codemirror_mode": {
    "name": "ipython",
    "version": 3
   },
   "file_extension": ".py",
   "mimetype": "text/x-python",
   "name": "python",
   "nbconvert_exporter": "python",
   "pygments_lexer": "ipython3",
   "version": "3.9.5"
  },
  "orig_nbformat": 4
 },
 "nbformat": 4,
 "nbformat_minor": 2
}