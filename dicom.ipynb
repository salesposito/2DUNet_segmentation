{
 "metadata": {
  "language_info": {
   "codemirror_mode": {
    "name": "ipython",
    "version": 3
   },
   "file_extension": ".py",
   "mimetype": "text/x-python",
   "name": "python",
   "nbconvert_exporter": "python",
   "pygments_lexer": "ipython3",
   "version": "3.9.5"
  },
  "orig_nbformat": 4,
  "kernelspec": {
   "name": "python3",
   "display_name": "Python 3.9.5 64-bit ('autosegmentation': conda)"
  },
  "interpreter": {
   "hash": "125bec86af28abc83cf35ecc07aed6c1f98608cb92e6f2b8d1d63cbdf2bcb29e"
  }
 },
 "nbformat": 4,
 "nbformat_minor": 2,
 "cells": [
  {
   "cell_type": "code",
   "execution_count": 1,
   "metadata": {},
   "outputs": [
    {
     "output_type": "stream",
     "name": "stderr",
     "text": [
      "/usr/local/anaconda3/envs/autosegmentation/lib/python3.9/site-packages/dicom/__init__.py:53: UserWarning: \nThis code is using an older version of pydicom, which is no longer \nmaintained as of Jan 2017.  You can access the new pydicom features and API \nby installing `pydicom` from PyPI.\nSee 'Transitioning to pydicom 1.x' section at pydicom.readthedocs.org \nfor more information.\n\n  warnings.warn(msg)\n"
     ]
    },
    {
     "output_type": "display_data",
     "data": {
      "text/html": "        <script type=\"text/javascript\">\n        window.PlotlyConfig = {MathJaxConfig: 'local'};\n        if (window.MathJax) {MathJax.Hub.Config({SVG: {font: \"STIX-Web\"}});}\n        if (typeof require !== 'undefined') {\n        require.undef(\"plotly\");\n        requirejs.config({\n            paths: {\n                'plotly': ['https://cdn.plot.ly/plotly-latest.min']\n            }\n        });\n        require(['plotly'], function(Plotly) {\n            window._Plotly = Plotly;\n        });\n        }\n        </script>\n        "
     },
     "metadata": {}
    }
   ],
   "source": [
    "\n",
    "import numpy as np\n",
    "import dicom\n",
    "import pydicom as dicom\n",
    "import matplotlib.pylab as plt\n",
    "import os\n",
    "from scipy import ndimage\n",
    "import pydicom\n",
    "import numpy as np\n",
    "import cv2\n",
    "import os\n",
    "import matplotlib.pyplot as plt\n",
    "import matplotlib.pyplot as plt\n",
    "from glob import glob\n",
    "from mpl_toolkits.mplot3d.art3d import Poly3DCollection\n",
    "import scipy.ndimage\n",
    "from skimage import morphology\n",
    "from skimage import measure\n",
    "from skimage.transform import resize\n",
    "from sklearn.cluster import KMeans\n",
    "from plotly import __version__\n",
    "from plotly.offline import download_plotlyjs, init_notebook_mode, plot, iplot\n",
    "from plotly.tools import FigureFactory as FF\n",
    "from plotly.graph_objs import *\n",
    "init_notebook_mode(connected=True) "
   ]
  },
  {
   "cell_type": "code",
   "execution_count": 2,
   "metadata": {
    "tags": []
   },
   "outputs": [
    {
     "output_type": "stream",
     "name": "stdout",
     "text": [
      "Dataset.file_meta -------------------------------\n(0002, 0000) File Meta Information Group Length  UL: 196\n(0002, 0001) File Meta Information Version       OB: b'\\x00\\x01'\n(0002, 0002) Media Storage SOP Class UID         UI: CT Image Storage\n(0002, 0003) Media Storage SOP Instance UID      UI: 1.3.6.1.4.1.14519.5.2.1.7014.4598.306078942932076438279503889705\n(0002, 0010) Transfer Syntax UID                 UI: Explicit VR Little Endian\n(0002, 0012) Implementation Class UID            UI: 1.2.40.0.13.1.1.1\n(0002, 0013) Implementation Version Name         SH: 'dcm4che-1.4.35'\n-------------------------------------------------\n(0008, 0005) Specific Character Set              CS: 'ISO_IR 100'\n(0008, 0008) Image Type                          CS: ['ORIGINAL', 'PRIMARY', 'AXIAL', 'CT_SOM5 SPI']\n(0008, 0012) Instance Creation Date              DA: '20050726'\n(0008, 0013) Instance Creation Time              TM: '091720.048000'\n(0008, 0016) SOP Class UID                       UI: CT Image Storage\n(0008, 0018) SOP Instance UID                    UI: 1.3.6.1.4.1.14519.5.2.1.7014.4598.306078942932076438279503889705\n(0008, 0020) Study Date                          DA: '20031104'\n(0008, 0021) Series Date                         DA: '20031104'\n(0008, 0023) Content Date                        DA: '20031104'\n(0008, 0030) Study Time                          TM: '112017.690000'\n(0008, 0031) Series Time                         TM: '114545.847000'\n(0008, 0033) Content Time                        TM: '114157.193000'\n(0008, 0050) Accession Number                    SH: '2356173256177297'\n(0008, 0060) Modality                            CS: 'CT'\n(0008, 0070) Manufacturer                        LO: 'SIEMENS'\n(0008, 0090) Referring Physician's Name          PN: ''\n(0008, 1030) Study Description                   LO: 'RT^RCCT_THORAX_8F_High (Adult)'\n(0008, 103e) Series Description                  LO: 'CT114545:RespCT  3.0  B30f  50% Ex'\n(0008, 1090) Manufacturer's Model Name           LO: 'Sensation Open'\n(0010, 0010) Patient's Name                      PN: 'LCTSC-Test-S1-102'\n(0010, 0020) Patient ID                          LO: 'LCTSC-Test-S1-102'\n(0010, 0030) Patient's Birth Date                DA: ''\n(0010, 0040) Patient's Sex                       CS: 'F'\n(0012, 0062) Patient Identity Removed            CS: 'YES'\n(0012, 0063) De-identification Method            LO: ['Per DICOM PS 3.15 AnnexE. Details in 0012,0064', 'Per DICOM PS 3.15 AnnexE. Details in 0012,0064']\n(0012, 0064)  De-identification Method Code Sequence  16 item(s) ---- \n   (0008, 0100) Code Value                          SH: '113100'\n   (0008, 0102) Coding Scheme Designator            SH: 'DCM'\n   (0008, 0104) Code Meaning                        LO: 'Basic Application Confidentiality Profile'\n   ---------\n   (0008, 0100) Code Value                          SH: '113101'\n   (0008, 0102) Coding Scheme Designator            SH: 'DCM'\n   (0008, 0104) Code Meaning                        LO: 'Clean Pixel Data Option'\n   ---------\n   (0008, 0100) Code Value                          SH: '113104'\n   (0008, 0102) Coding Scheme Designator            SH: 'DCM'\n   (0008, 0104) Code Meaning                        LO: 'Clean Structured Content Option'\n   ---------\n   (0008, 0100) Code Value                          SH: '113105'\n   (0008, 0102) Coding Scheme Designator            SH: 'DCM'\n   (0008, 0104) Code Meaning                        LO: 'Clean Descriptors Option'\n   ---------\n   (0008, 0100) Code Value                          SH: '113107'\n   (0008, 0102) Coding Scheme Designator            SH: 'DCM'\n   (0008, 0104) Code Meaning                        LO: 'Retain Longitudinal Temporal Information Modified Dates Option'\n   ---------\n   (0008, 0100) Code Value                          SH: '113108'\n   (0008, 0102) Coding Scheme Designator            SH: 'DCM'\n   (0008, 0104) Code Meaning                        LO: 'Retain Patient Characteristics Option'\n   ---------\n   (0008, 0100) Code Value                          SH: '113109'\n   (0008, 0102) Coding Scheme Designator            SH: 'DCM'\n   (0008, 0104) Code Meaning                        LO: 'Retain Device Identity Option'\n   ---------\n   (0008, 0100) Code Value                          SH: '113111'\n   (0008, 0102) Coding Scheme Designator            SH: 'DCM'\n   (0008, 0104) Code Meaning                        LO: 'Retain Safe Private Option'\n   ---------\n   (0008, 0100) Code Value                          SH: '113100'\n   (0008, 0102) Coding Scheme Designator            SH: 'DCM'\n   (0008, 0104) Code Meaning                        LO: 'Basic Application Confidentiality Profile'\n   ---------\n   (0008, 0100) Code Value                          SH: '113101'\n   (0008, 0102) Coding Scheme Designator            SH: 'DCM'\n   (0008, 0104) Code Meaning                        LO: 'Clean Pixel Data Option'\n   ---------\n   (0008, 0100) Code Value                          SH: '113104'\n   (0008, 0102) Coding Scheme Designator            SH: 'DCM'\n   (0008, 0104) Code Meaning                        LO: 'Clean Structured Content Option'\n   ---------\n   (0008, 0100) Code Value                          SH: '113105'\n   (0008, 0102) Coding Scheme Designator            SH: 'DCM'\n   (0008, 0104) Code Meaning                        LO: 'Clean Descriptors Option'\n   ---------\n   (0008, 0100) Code Value                          SH: '113107'\n   (0008, 0102) Coding Scheme Designator            SH: 'DCM'\n   (0008, 0104) Code Meaning                        LO: 'Retain Longitudinal Temporal Information Modified Dates Option'\n   ---------\n   (0008, 0100) Code Value                          SH: '113108'\n   (0008, 0102) Coding Scheme Designator            SH: 'DCM'\n   (0008, 0104) Code Meaning                        LO: 'Retain Patient Characteristics Option'\n   ---------\n   (0008, 0100) Code Value                          SH: '113109'\n   (0008, 0102) Coding Scheme Designator            SH: 'DCM'\n   (0008, 0104) Code Meaning                        LO: 'Retain Device Identity Option'\n   ---------\n   (0008, 0100) Code Value                          SH: '113111'\n   (0008, 0102) Coding Scheme Designator            SH: 'DCM'\n   (0008, 0104) Code Meaning                        LO: 'Retain Safe Private Option'\n   ---------\n(0013, 0010) Private Creator                     LO: 'CTP'\n(0013, 1010) Private tag data                    LO: 'LCTSC'\n(0013, 1013) Private tag data                    LO: '70144598'\n(0018, 0015) Body Part Examined                  CS: 'LUNG'\n(0018, 0050) Slice Thickness                     DS: \"3.0\"\n(0018, 0060) KVP                                 DS: \"120.0\"\n(0018, 0090) Data Collection Diameter            DS: \"500.0\"\n(0018, 1100) Reconstruction Diameter             DS: \"500.0\"\n(0018, 1110) Distance Source to Detector         DS: \"1040.0\"\n(0018, 1111) Distance Source to Patient          DS: \"570.0\"\n(0018, 1120) Gantry/Detector Tilt                DS: \"0.0\"\n(0018, 1130) Table Height                        DS: \"200.0\"\n(0018, 1140) Rotation Direction                  CS: 'CW'\n(0018, 1150) Exposure Time                       IS: \"361\"\n(0018, 1151) X-Ray Tube Current                  IS: \"100\"\n(0018, 1152) Exposure                            IS: \"500\"\n(0018, 1160) Filter Type                         SH: '0'\n(0018, 1170) Generator Power                     IS: \"12\"\n(0018, 1190) Focal Spot(s)                       DS: \"1.2\"\n(0018, 1210) Convolution Kernel                  SH: 'B30f'\n(0018, 5100) Patient Position                    CS: 'HFS'\n(0020, 000d) Study Instance UID                  UI: 1.3.6.1.4.1.14519.5.2.1.7014.4598.238478060677653494401819620444\n(0020, 000e) Series Instance UID                 UI: 1.3.6.1.4.1.14519.5.2.1.7014.4598.639871532605224417554459681163\n(0020, 0010) Study ID                            SH: ''\n(0020, 0011) Series Number                       IS: \"0\"\n(0020, 0012) Acquisition Number                  IS: \"2\"\n(0020, 0013) Instance Number                     IS: \"58\"\n(0020, 0032) Image Position (Patient)            DS: [-249.51171875, -449.51171875, -393.5]\n(0020, 0037) Image Orientation (Patient)         DS: [1, 0, 0, 0, 1, 0]\n(0020, 0052) Frame of Reference UID              UI: 1.3.6.1.4.1.14519.5.2.1.7014.4598.408067568497667143598295356169\n(0020, 1040) Position Reference Indicator        LO: ''\n(0020, 1041) Slice Location                      DS: \"-393.5\"\n(0028, 0002) Samples per Pixel                   US: 1\n(0028, 0004) Photometric Interpretation          CS: 'MONOCHROME2'\n(0028, 0010) Rows                                US: 512\n(0028, 0011) Columns                             US: 512\n(0028, 0030) Pixel Spacing                       DS: [9.765625e-1, 9.765625e-1]\n(0028, 0100) Bits Allocated                      US: 16\n(0028, 0101) Bits Stored                         US: 12\n(0028, 0102) High Bit                            US: 11\n(0028, 0103) Pixel Representation                US: 0\n(0028, 0303) Longitudinal Temporal Information M CS: 'MODIFIED'\n(0028, 1050) Window Center                       DS: \"40.0\"\n(0028, 1051) Window Width                        DS: \"400.0\"\n(0028, 1052) Rescale Intercept                   DS: \"-1024.0\"\n(0028, 1053) Rescale Slope                       DS: \"1.0\"\n(3253, 0010) Private Creator                     LO: 'Varian Medical Systems VISION 3253'\n(7fe0, 0010) Pixel Data                          OW: Array of 524288 elements\n"
     ]
    }
   ],
   "source": [
    "file_path = \"/Users/salvatoreesposito/Downloads/datasets/manifest-1557326747206/LCTSC/LCTSC-Test-S1-102/11-04-2003-RTRCCTTHORAX8FHigh Adult-20444/0.000000-CT114545RespCT  3.0  B30f  50 Ex-81163/1-058.dcm\"\n",
    "output_path = \"/Users/salvatoreesposito/Downloads/\"\n",
    "medical_image = pydicom.read_file(file_path)\n",
    "print(medical_image)\n"
   ]
  },
  {
   "cell_type": "code",
   "execution_count": 6,
   "metadata": {},
   "outputs": [
    {
     "output_type": "stream",
     "name": "stdout",
     "text": [
      "(512, 512)\n"
     ]
    }
   ],
   "source": [
    "image = medical_image.pixel_array\n",
    "print(image.shape)"
   ]
  },
  {
   "cell_type": "code",
   "execution_count": 32,
   "metadata": {},
   "outputs": [
    {
     "output_type": "stream",
     "name": "stdout",
     "text": [
      "24\n2308\n"
     ]
    }
   ],
   "source": [
    "print(image.min())\n",
    "print(image.max())"
   ]
  },
  {
   "cell_type": "code",
   "execution_count": 7,
   "metadata": {},
   "outputs": [],
   "source": [
    "def transform_to_hu(medical_image, image):\n",
    "    intercept = medical_image.RescaleIntercept\n",
    "    slope = medical_image.RescaleSlope\n",
    "    hu_image = image * slope + intercept\n",
    "\n",
    "    return hu_image"
   ]
  },
  {
   "cell_type": "code",
   "execution_count": 9,
   "metadata": {},
   "outputs": [],
   "source": [
    "hu_image = transform_to_hu(medical_image,image)\n"
   ]
  },
  {
   "cell_type": "code",
   "execution_count": null,
   "metadata": {},
   "outputs": [],
   "source": [
    "def load_scan(path):\n",
    "    \n",
    "    slices = [dicom.read_file(path + '/' + s) for s in os.listdir(path)]\n",
    "    slices.sort(key = lambda x: int(x.InstanceNumber))\n",
    "    try:\n",
    "        slice_thickness = np.abs(slices[0].ImagePositionPatient[2] - slices[1].ImagePositionPatient[2])\n",
    "    except:\n",
    "        slice_thickness = np.abs(slices[0].SliceLocation - slices[1].SliceLocation)\n",
    "        \n",
    "    for s in slices:\n",
    "        s.SliceThickness = slice_thickness\n",
    "        \n",
    "    return slices\n"
   ]
  }
 ]
}