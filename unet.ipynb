{
 "cells": [
  {
   "cell_type": "code",
   "execution_count": 2,
   "source": [
    "from pathlib import Path\n",
    "import dicom_contour.contour as dcm\n",
    "import pydicom as dicom\n",
    "import os\n",
    "import math\n",
    "import numpy as np\n",
    "from scipy.sparse import csc_matrix\n",
    "from matplotlib import pyplot as plt\n",
    "import tensorflow as tf\n",
    "import keras"
   ],
   "outputs": [],
   "metadata": {}
  },
  {
   "cell_type": "code",
   "execution_count": 3,
   "source": [
    "import pickle\n",
    "with open('train.pickle', 'rb') as f:\n",
    "    X, y = pickle.load(f)"
   ],
   "outputs": [],
   "metadata": {}
  },
  {
   "cell_type": "code",
   "execution_count": 4,
   "source": [
    "from sklearn.model_selection import train_test_split\n",
    "\n",
    "X = np.array(X)\n",
    "y = np.array(y)\n",
    "\n",
    "X_train, X_test, y_train, y_test = train_test_split(X, y, test_size=0.33, random_state=42)"
   ],
   "outputs": [],
   "metadata": {}
  },
  {
   "cell_type": "code",
   "execution_count": null,
   "source": [
    "model = models.Unet(use_backbone=False, input_shape=(512,512,1), attention=True)\n",
    "model.summary()\n",
    "\n",
    "\n",
    "\n",
    "model.compile(optimizer=tf.keras.optimizers.Adam(learning_rate=0.0001), loss=dice_loss, metrics=[\"accuracy\",dice_coef])\n",
    "history=model.fit(X_train, y_train, validation_split=0.5,epochs=100, batch_size=1, verbose=1)\n",
    "model.evaluate(X_test, y_test, batch_size=1, verbose=1,)\n",
    "model.save(\"AttXnet_1\")\n",
    "dot_img_file = 'AttXnet_1.png'\n",
    "tf.keras.utils.plot_model(model, to_file=dot_img_file, show_shapes=True)\n"
   ],
   "outputs": [],
   "metadata": {}
  }
 ],
 "metadata": {
  "language_info": {
   "name": "python",
   "version": "3.9.5",
   "mimetype": "text/x-python",
   "codemirror_mode": {
    "name": "ipython",
    "version": 3
   },
   "pygments_lexer": "ipython3",
   "nbconvert_exporter": "python",
   "file_extension": ".py"
  },
  "orig_nbformat": 4,
  "kernelspec": {
   "name": "python3",
   "display_name": "Python 3.9.5 64-bit ('autosegmentation': conda)"
  },
  "interpreter": {
   "hash": "125bec86af28abc83cf35ecc07aed6c1f98608cb92e6f2b8d1d63cbdf2bcb29e"
  }
 },
 "nbformat": 4,
 "nbformat_minor": 2
}